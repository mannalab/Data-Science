{
  "nbformat": 4,
  "nbformat_minor": 0,
  "metadata": {
    "colab": {
      "name": "Curso IEEE UEM - Bibliotecas Científicas Python.ipynb",
      "provenance": [],
      "collapsed_sections": [
        "otNQO6yGVRLs",
        "JFLCPcmRWAM8",
        "xFjnINNZXy8j",
        "ctAt0AhprW7X",
        "4t6Ts-OZd63O",
        "KgUZGEiYu3pb",
        "reDy42xevNf1",
        "ClcXtqI90CJs",
        "K5d6YWM-78_S",
        "RCkoVckEbvOB",
        "C-mWf5n-iDaQ",
        "6gvcSvY7bmT1"
      ]
    },
    "kernelspec": {
      "name": "python3",
      "display_name": "Python 3"
    }
  },
  "cells": [
    {
      "cell_type": "markdown",
      "metadata": {
        "id": "otNQO6yGVRLs"
      },
      "source": [
        "# Numpy\n",
        "\n",
        "* Oferecimento: Ramo Estudantil [IEEE UEM](https://www.ieeeuem.com.br/)\n",
        "* Autores: Leonichel Guimarães (leonichelg@gmail.com) e Leonardo Armelin (leonardo99.armelin@gmail.com)\n",
        "* Referência: MCKINNEY, Wes. Python para Análise de Dados: tratamento de dados com pandas, numpy e ipython. São Paulo: Novatec, 2018."
      ]
    },
    {
      "cell_type": "markdown",
      "metadata": {
        "id": "JFLCPcmRWAM8"
      },
      "source": [
        "## Introdução"
      ]
    },
    {
      "cell_type": "markdown",
      "metadata": {
        "id": "m2G_gckEWWov"
      },
      "source": [
        "Numerical Python\n",
        "\n",
        "* Numerical Python (NumPy)\n",
        "* Usos: Processamento de Vetores, Funções matemáticas, Álgebra Linear\n",
        "* Vantagem: Processamento 100 vezes maior \n",
        "\n"
      ]
    },
    {
      "cell_type": "code",
      "metadata": {
        "id": "tUmV5X13ZIw0"
      },
      "source": [
        "# importação do NumPy - NOTA: rode esse comando antes de usar esse notebook\n",
        "import numpy as np"
      ],
      "execution_count": null,
      "outputs": []
    },
    {
      "cell_type": "markdown",
      "metadata": {
        "id": "xFjnINNZXy8j"
      },
      "source": [
        "## N-dimensional Array (ndarray) e Criação de vetores"
      ]
    },
    {
      "cell_type": "markdown",
      "metadata": {
        "id": "CQ6VCViUX-uX"
      },
      "source": [
        "* Um dos principais recursos do NumPy: objeto vetorial n-dimensional\n",
        "* Permite trabalhar com blocos de dados como se fossem escalares"
      ]
    },
    {
      "cell_type": "code",
      "metadata": {
        "id": "toHy9A0OZGe_",
        "colab": {
          "base_uri": "https://localhost:8080/",
          "height": 34
        },
        "outputId": "a85cdd7d-e05c-4ade-b366-05c995360064"
      },
      "source": [
        "# criação de vetores\n",
        "data = [1, 2, 3, 4]\n",
        "arr = np.array(data, dtype='int')\n",
        "print(arr)"
      ],
      "execution_count": null,
      "outputs": [
        {
          "output_type": "stream",
          "text": [
            "[1 2 3 4]\n"
          ],
          "name": "stdout"
        }
      ]
    },
    {
      "cell_type": "markdown",
      "metadata": {
        "id": "IYvP7oY3aBGD"
      },
      "source": [
        "\n",
        "\n",
        "dtype\n",
        "\n",
        "* int[8,16,32,64], uint[8,16,32,64]: tipos inteiros com e sem sinal\n",
        "* float[16,32,64,128]: tipos flutuantes\n",
        "* complex[64,128,256]: tipos complexos representados por dois flutuantes\n",
        "* bool: tipo booleano que armazena True e False\n",
        "* object: tipo objeto de Python\n",
        "* string_: tipo string de tamanho fixo\n",
        "* unicode_: tipo unicode de tamanho fixo\n",
        "\n"
      ]
    },
    {
      "cell_type": "code",
      "metadata": {
        "id": "z8ysYBHseZ9U"
      },
      "source": [
        "# criação de vetores\n",
        "arr = np.array(1,2,3,4) # ERRADO"
      ],
      "execution_count": null,
      "outputs": []
    },
    {
      "cell_type": "code",
      "metadata": {
        "id": "WnWchsIRbWCB"
      },
      "source": [
        "# criação de vetores\n",
        "data = [[0.3, .4], [.3, 2]]\n",
        "arr = np.array(data)"
      ],
      "execution_count": null,
      "outputs": []
    },
    {
      "cell_type": "code",
      "metadata": {
        "id": "TpDOUNeTb0Vp"
      },
      "source": [
        "# criação de vetores\n",
        "data = [[[0, 1, 2], [0, 1, 2], [0, 1, 2]], [[0, 1, 2], [0, 1, 2], [0, 1, 2]]]\n",
        "arr = np.array(data)"
      ],
      "execution_count": null,
      "outputs": []
    },
    {
      "cell_type": "code",
      "metadata": {
        "id": "C8QZk0uabhy6"
      },
      "source": [
        "# número de dimensão e tamanho de cada dimensão\n",
        "print(arr.ndim)\n",
        "print(arr.shape)"
      ],
      "execution_count": null,
      "outputs": []
    },
    {
      "cell_type": "markdown",
      "metadata": {
        "id": "pJ5exZ3cgwHz"
      },
      "source": [
        "\n",
        "\n",
        "Funções para criação de arrays\n",
        "\n",
        "* array: converte listas, tuplas, array ou outros tipos de sequência em ndarray\n",
        "* asarray: converte a entrada, mas não copia se a ela já for um ndarray\n",
        "* arrage: semelhante a função range de Python, mas gera um nparray\n",
        "* ones, ones_like: cria uma matriz com 1s, e o segundo aceita um array para criar com mesmo formato e tipo\n",
        "* zeros, zeros_like: semelhante a ones e ones_like, mas com 0s\n",
        "* empty, empty_like: cria novos arrays, alocando memória, mas não preenche com valor\n",
        "* full, full_like: gera um array com todos valores definidos\n",
        "* eye, identify: cria uma matriz identidade\n",
        "\n"
      ]
    },
    {
      "cell_type": "code",
      "metadata": {
        "id": "ZrokN5P8eny7"
      },
      "source": [
        "# 0s e 1s\n",
        "\n",
        "arr = np.zeros((2,2))\n",
        "#arr = np.ones((1,2))"
      ],
      "execution_count": null,
      "outputs": []
    },
    {
      "cell_type": "code",
      "metadata": {
        "id": "ta3dm_9xgSbH"
      },
      "source": [
        "# arange\n",
        "\n",
        "arr = np.arange(15)\n",
        "#arr.reshape(3,5)"
      ],
      "execution_count": null,
      "outputs": []
    },
    {
      "cell_type": "code",
      "metadata": {
        "id": "vx36FwsXfC3V"
      },
      "source": [
        "# linspace\n",
        "\n",
        "from numpy import pi\n",
        "\n",
        "arr = np.linspace(1, 10, 10) # 9 números, de 0 até 2\n",
        "#arr = np.linspace(0, 2*pi, 100)"
      ],
      "execution_count": null,
      "outputs": []
    },
    {
      "cell_type": "code",
      "metadata": {
        "id": "-bTruKuBmBJh"
      },
      "source": [
        "# números pseudo-aleatórios - métodos: uniform, normal, randn, rand, randint...\n",
        "\n",
        "arr = np.random.randint(100, size=(4,6))\n",
        "#arr = np.random.uniform(low=0, high=100, size=(4,6))"
      ],
      "execution_count": null,
      "outputs": []
    },
    {
      "cell_type": "code",
      "metadata": {
        "id": "oWSGoLG8fEEn"
      },
      "source": [
        "# printar vetor\n",
        " \n",
        "print(arr)"
      ],
      "execution_count": null,
      "outputs": []
    },
    {
      "cell_type": "markdown",
      "metadata": {
        "id": "ctAt0AhprW7X"
      },
      "source": [
        "## Indexação e Fatiamento"
      ]
    },
    {
      "cell_type": "code",
      "metadata": {
        "id": "FQEw8xBXrmV9"
      },
      "source": [
        "# definindo vetores de base\n",
        "\n",
        "a = np.array([10, 20, 30, 40, 50])\n",
        "b = np.array([10, 10, 10, 10])\n",
        "\n",
        "c = np.random.uniform(low=0, high=100, size=(3,3,3))\n",
        "d = np.array([[1, 0, 0],\n",
        "              [1, 2, 3],\n",
        "              [2, 0, 1]])\n",
        "\n",
        "e = a[3]\n",
        "f = a[1:3]\n",
        "print(f)"
      ],
      "execution_count": null,
      "outputs": []
    },
    {
      "cell_type": "code",
      "metadata": {
        "id": "MGL3CDJfPAsX"
      },
      "source": [
        "# ordem inversa\n",
        "\n",
        "a[-1]"
      ],
      "execution_count": null,
      "outputs": []
    },
    {
      "cell_type": "code",
      "metadata": {
        "id": "IPllp_3Brs6N"
      },
      "source": [
        "# alterando valor pelo index e comando .copy()\n",
        "\n",
        "g = a.copy()\n",
        "\n",
        "g[1:4] = 12\n",
        "\n",
        "print(g)\n",
        "print(a)"
      ],
      "execution_count": null,
      "outputs": []
    },
    {
      "cell_type": "code",
      "metadata": {
        "id": "3m50JRjjC1RV"
      },
      "source": [
        "# \"Fatia nua\"\n",
        "\n",
        "print(a[:4])"
      ],
      "execution_count": null,
      "outputs": []
    },
    {
      "cell_type": "code",
      "metadata": {
        "id": "EctztE8CDaad",
        "colab": {
          "base_uri": "https://localhost:8080/",
          "height": 221
        },
        "outputId": "079f8e59-0a54-4e65-ab2b-595895099953"
      },
      "source": [
        "# indexação multidimensional\n",
        "\n",
        "d = c[0][2][1]\n",
        "#d = c[0,2,1]\n",
        "\n",
        "print(c)\n",
        "print(d)"
      ],
      "execution_count": null,
      "outputs": [
        {
          "output_type": "stream",
          "text": [
            "[[[64.58733335  9.53070383 25.61583585]\n",
            "  [16.50784104 26.98458522 70.08031236]\n",
            "  [71.82959499 11.36759205 94.36798954]]\n",
            "\n",
            " [[91.73755088 19.20124513  1.21386744]\n",
            "  [92.05249048 54.20059773 76.52661725]\n",
            "  [32.42382698 49.27619916 23.06573529]]\n",
            "\n",
            " [[62.04215721 92.69866367 79.918564  ]\n",
            "  [64.64939827 70.15067693 26.63580797]\n",
            "  [88.55669283 58.43555752  1.67521579]]]\n",
            "11.367592045951792\n"
          ],
          "name": "stdout"
        }
      ]
    },
    {
      "cell_type": "markdown",
      "metadata": {
        "id": "VO3unwKvjkMY"
      },
      "source": [
        "Fatiamento de arrays bidimensionais\n",
        "\n",
        "* arr[:2, 1:]:\n",
        "~~~\n",
        "0  1  1\n",
        "0  1  1\n",
        "0  0  0\n",
        "~~~\n",
        "\n",
        "* arr[2], arr[2, :], arr[2:, :]:\n",
        "~~~\n",
        "0  0  0\n",
        "0  0  0\n",
        "1  1  1\n",
        "~~~\n",
        "\n",
        "* arr[:, :2]:\n",
        "~~~\n",
        "1  1  0\n",
        "1  1  0\n",
        "1  1  0\n",
        "~~~\n",
        "\n",
        "* arr[1, :2], arr[1:2, :2]:\n",
        "~~~\n",
        "0  0  0\n",
        "1  1  0\n",
        "0  0  0\n",
        "~~~"
      ]
    },
    {
      "cell_type": "code",
      "metadata": {
        "id": "x4o5Axeji3oF"
      },
      "source": [
        "# indexação com fatias\n",
        "\n",
        "e = d[:1,1:]\n",
        "print(d)\n",
        "print('----')\n",
        "print(e)"
      ],
      "execution_count": null,
      "outputs": []
    },
    {
      "cell_type": "code",
      "metadata": {
        "id": "-xYDcoE9q91M"
      },
      "source": [
        "# indexação booleana\n",
        "\n",
        "names = np.array(['Leonichel', 'Leonardo', 'Rodolfo', 'Bento', 'Força', 'Rodolfo', 'Leonichel', 'Bento', 'Leonardo'])\n",
        "data = np.random.randn(9,4)\n",
        "\n",
        "equidade = names == 'Rodolfo'\n",
        "correlacao = data[names == 'Rodolfo']\n",
        "negando = data[(names != 'Rodolfo')] # ou data[~(names == 'Rodolfo')]\n",
        "\n",
        "# Mascaras, Or e And\n",
        "\n",
        "maskAnd = (names == 'Rodolfo') & (names == 'Leonardo')\n",
        "maskOr = (names == 'Rodolfo') | (names == 'Leonardo')\n",
        "e = data[maskAnd]\n",
        "ou = data[maskOr]\n"
      ],
      "execution_count": null,
      "outputs": []
    },
    {
      "cell_type": "code",
      "metadata": {
        "id": "zRxBILvP_wPa"
      },
      "source": [
        "# printar vetor\n",
        "\n",
        "print(data)\n",
        "print()\n",
        "print(e)\n",
        "print(ou)"
      ],
      "execution_count": null,
      "outputs": []
    },
    {
      "cell_type": "markdown",
      "metadata": {
        "id": "4t6Ts-OZd63O"
      },
      "source": [
        "## Aritmética"
      ]
    },
    {
      "cell_type": "code",
      "metadata": {
        "id": "xN0MHxZOk15v"
      },
      "source": [
        "# definindo vetores de base\n",
        "\n",
        "a = np.array([10, 20, 30, 40])\n",
        "b = np.array([10, 10, 10, 10])"
      ],
      "execution_count": null,
      "outputs": []
    },
    {
      "cell_type": "code",
      "metadata": {
        "id": "RxjAF_i4jUNc"
      },
      "source": [
        "# soma e subtração\n",
        "\n",
        "c = a - b\n",
        "#c -= 3"
      ],
      "execution_count": null,
      "outputs": []
    },
    {
      "cell_type": "code",
      "metadata": {
        "id": "DNP0OYD5j6eD"
      },
      "source": [
        "# multiplicação e subtração\n",
        "\n",
        "c = a / b"
      ],
      "execution_count": null,
      "outputs": []
    },
    {
      "cell_type": "code",
      "metadata": {
        "id": "ZXtCLuArkZmP"
      },
      "source": [
        "# potenciação e radicação\n",
        "\n",
        "c = a**(1/3)"
      ],
      "execution_count": null,
      "outputs": []
    },
    {
      "cell_type": "code",
      "metadata": {
        "id": "Qe4LSLZ1kwh-",
        "colab": {
          "base_uri": "https://localhost:8080/",
          "height": 34
        },
        "outputId": "fb20400a-1bfa-4678-e112-a610ca34bfc5"
      },
      "source": [
        "# operações booleanas\n",
        "\n",
        "a > b"
      ],
      "execution_count": null,
      "outputs": [
        {
          "output_type": "execute_result",
          "data": {
            "text/plain": [
              "array([False,  True,  True,  True])"
            ]
          },
          "metadata": {
            "tags": []
          },
          "execution_count": 115
        }
      ]
    },
    {
      "cell_type": "code",
      "metadata": {
        "id": "IwHeu-gHjy5v",
        "colab": {
          "base_uri": "https://localhost:8080/",
          "height": 34
        },
        "outputId": "32626bbe-c2e9-4c1b-f813-35ee0cf91fd1"
      },
      "source": [
        "# printar vetor\n",
        "\n",
        "print(c)"
      ],
      "execution_count": null,
      "outputs": [
        {
          "output_type": "stream",
          "text": [
            "[2.15443469 2.71441762 3.10723251 3.41995189]\n"
          ],
          "name": "stdout"
        }
      ]
    },
    {
      "cell_type": "markdown",
      "metadata": {
        "id": "KgUZGEiYu3pb"
      },
      "source": [
        "## Álgebra Linear"
      ]
    },
    {
      "cell_type": "code",
      "metadata": {
        "id": "wWCyok8Cvjvf"
      },
      "source": [
        "# definindo vetores de base\n",
        "\n",
        "a = np.array([[1, 2, 3],\n",
        "              [2, 0, 1],\n",
        "              [0, 2, 3]])\n",
        "\n",
        "b = np.array([[1],\n",
        "              [2],\n",
        "              [3]])"
      ],
      "execution_count": null,
      "outputs": []
    },
    {
      "cell_type": "code",
      "metadata": {
        "id": "1otqLNqrlNFt"
      },
      "source": [
        "# produto matricial\n",
        "\n",
        "mulMatr = a @ a"
      ],
      "execution_count": null,
      "outputs": []
    },
    {
      "cell_type": "code",
      "metadata": {
        "id": "5Gn2i2IaxsHc"
      },
      "source": [
        "# transposição\n",
        "\n",
        "transp = a.transpose()"
      ],
      "execution_count": null,
      "outputs": []
    },
    {
      "cell_type": "code",
      "metadata": {
        "id": "zhciW3dgxxDa"
      },
      "source": [
        "# inversão\n",
        "\n",
        "inver = np.linalg.inv(a)"
      ],
      "execution_count": null,
      "outputs": []
    },
    {
      "cell_type": "code",
      "metadata": {
        "id": "lF3rXE1VyACl"
      },
      "source": [
        "# matriz identidade\n",
        "\n",
        "ident = np.eye(5)"
      ],
      "execution_count": null,
      "outputs": []
    },
    {
      "cell_type": "code",
      "metadata": {
        "id": "voKgM__vyfxa"
      },
      "source": [
        "# solução de equações matriciais - Calcula x em ax = b\n",
        "\n",
        "np.linalg.solve(a, b)"
      ],
      "execution_count": null,
      "outputs": []
    },
    {
      "cell_type": "code",
      "metadata": {
        "id": "OzcNZNCpxABb"
      },
      "source": [
        "# printar vetor\n",
        "\n",
        "print(ident)"
      ],
      "execution_count": null,
      "outputs": []
    },
    {
      "cell_type": "markdown",
      "metadata": {
        "id": "reDy42xevNf1"
      },
      "source": [
        "## Métodos matemáticos e estatísticos"
      ]
    },
    {
      "cell_type": "code",
      "metadata": {
        "id": "FPBBRjhi0N-p"
      },
      "source": [
        "# definindo vetores de base\n",
        "\n",
        "a = np.array([[1, 2, 3],\n",
        "              [2, 0, 1],\n",
        "              [0, 2, 3]])\n",
        "\n",
        "b = np.array([[1],\n",
        "              [2],\n",
        "              [3]])"
      ],
      "execution_count": null,
      "outputs": []
    },
    {
      "cell_type": "code",
      "metadata": {
        "id": "3u9ozefl0T9j"
      },
      "source": [
        "# média\n",
        "\n",
        "media = np.mean(a)\n",
        "#media = np.mean(a, axis=0) # 0 para linhas e 1 para colunas"
      ],
      "execution_count": null,
      "outputs": []
    },
    {
      "cell_type": "code",
      "metadata": {
        "id": "wD8vjTCI0jN7"
      },
      "source": [
        "# soma\n",
        "\n",
        "soma = np.sum(a)"
      ],
      "execution_count": null,
      "outputs": []
    },
    {
      "cell_type": "code",
      "metadata": {
        "id": "nAnmE38t0nrU"
      },
      "source": [
        "# outros\n",
        "\n",
        "'''\n",
        "all, any, apply_along_axis, argmax, argmin, argsort, average, bincount, ceil, \n",
        "clip, conj, corrcoef, cov, cross, cumprod, cumsum, diff, dot, floor, inner, \n",
        "invert, lexsort, max, maximum, mean, median, min, minimum, nonzero, outer, prod, \n",
        "re, round, sort, std, sum, trace, transpose, var, vdot, vectorize, where\n",
        "'''"
      ],
      "execution_count": null,
      "outputs": []
    },
    {
      "cell_type": "code",
      "metadata": {
        "id": "VbJRJngG0Dk1"
      },
      "source": [
        "# printar vetor\n",
        "\n",
        "print(soma)"
      ],
      "execution_count": null,
      "outputs": []
    },
    {
      "cell_type": "markdown",
      "metadata": {
        "id": "ClcXtqI90CJs"
      },
      "source": [
        "## Funções Universais"
      ]
    },
    {
      "cell_type": "code",
      "metadata": {
        "id": "z8yLGdvV3Z_f"
      },
      "source": [
        "# definindo vetores de base\n",
        "\n",
        "a = np.array([[1.2, 0.2, -0.3],\n",
        "              [-2.1, 0.2, 1.5],\n",
        "              [3.0, 0.2, -3.4]])\n",
        "\n",
        "b = np.array([[1],\n",
        "              [2],\n",
        "              [3]])"
      ],
      "execution_count": null,
      "outputs": []
    },
    {
      "cell_type": "markdown",
      "metadata": {
        "id": "rw-uFgx33vA7"
      },
      "source": [
        "Funções \n",
        "\n",
        "* abs, fabs: valor absoluto\n",
        "* sqrt: radiciação\n",
        "* square: quadrática\n",
        "* exp: exponencial\n",
        "* log, log10, log2, log1p: logarítimos - o último é log(1+x)\n",
        "* sign: calcula o sinal de cada elemento (1 para positivo e -1 para negativo)\n",
        "* ceil: calcula o teto de cada elemento - arredonda para cima\n",
        "* floor: calcula o piso de cada elemento - arredonda para baixo\n",
        "* rint: arredonda os elementos do array para o inteiro mais próximo\n",
        "* modf: devolve as partes fracionária e inteira do array\n",
        "* cos, cosh, sin, sinh, tan, tanh: trigonométricas\n",
        "* arccos, arccosh, arcsin, arcsinh, arctan, arctanh: trignométricas inversas"
      ]
    },
    {
      "cell_type": "code",
      "metadata": {
        "id": "4wkTcMhU7Szw"
      },
      "source": [
        "# outras funções\n",
        "\n",
        "f = lambda x: np.cos(x)**2\n",
        "\n",
        "f(a)"
      ],
      "execution_count": null,
      "outputs": []
    },
    {
      "cell_type": "code",
      "metadata": {
        "id": "ZSA4PY08Mv8v"
      },
      "source": [
        "# outros métodos\n",
        "\n",
        "a = np.array([1, 2, 3])\n",
        "\n",
        "a = np.append(a, 4) # adiciona o 4 no a, final do vetor  \n",
        "a = np.insert(a, 0, 2) # adiciona o 2 no a, na posição 0\n",
        "\n",
        "a.flatten() # retorna uma cópia 'achatada' do vetor, em 1D"
      ],
      "execution_count": null,
      "outputs": []
    },
    {
      "cell_type": "code",
      "metadata": {
        "id": "f6U-AFqCzVKG",
        "colab": {
          "base_uri": "https://localhost:8080/",
          "height": 68
        },
        "outputId": "2f2e1b57-468f-472e-c469-3d12d7fe8886"
      },
      "source": [
        "# printar vetor\n",
        "\n",
        "print(np.cos(a))"
      ],
      "execution_count": null,
      "outputs": [
        {
          "output_type": "stream",
          "text": [
            "[[ 0.36235775  0.98006658  0.95533649]\n",
            " [-0.5048461   0.98006658  0.0707372 ]\n",
            " [-0.9899925   0.98006658 -0.96679819]]\n"
          ],
          "name": "stdout"
        }
      ]
    },
    {
      "cell_type": "markdown",
      "metadata": {
        "id": "K5d6YWM-78_S"
      },
      "source": [
        "## Desafio\n",
        "\n",
        "Estime o valor do número de ouro através da sequência de Fibonacci. Use NumPy\n"
      ]
    },
    {
      "cell_type": "code",
      "metadata": {
        "id": "G4WGk_jG8VwL"
      },
      "source": [
        "import numpy as np\n",
        "\n",
        "n = np.arange(1, 100)\n",
        "sqrt5 = np.sqrt(5)\n",
        "phi = (1 + sqrt5)/2\n",
        "\n",
        "fibonacci = np.rint((phi**n - (-1/phi)**n)/sqrt5) # Equação de Binet\n",
        "\n",
        "golden = fibonacci[1:]/fibonacci[:len(n)-1]\n",
        "\n",
        "print(golden[97])"
      ],
      "execution_count": null,
      "outputs": []
    },
    {
      "cell_type": "markdown",
      "metadata": {
        "id": "RCkoVckEbvOB"
      },
      "source": [
        "# Pandas\n",
        "\n",
        "* Oferecimento: Ramo Estudantil [IEEE UEM](https://www.ieeeuem.com.br/)\n",
        "* Autores: Leonichel Guimarães (leonichelg@gmail.com) e Leonardo Armelin (leonardo99.armelin@gmail.com)\n",
        "* Referência: MCKINNEY, Wes. Python para Análise de Dados: tratamento de dados com pandas, numpy e ipython. São Paulo: Novatec, 2018."
      ]
    },
    {
      "cell_type": "markdown",
      "metadata": {
        "id": "nxdzglgMcpA4"
      },
      "source": [
        "## Introdução"
      ]
    },
    {
      "cell_type": "markdown",
      "metadata": {
        "id": "7KJMxJPYcybp"
      },
      "source": [
        "\n",
        "* Usos: Processamento de dados heterogêneos e tabulares\n",
        "* Vantagens: projeto de código aberto; facilidade em processamento, filtragem e visualização de dados\n",
        "\n"
      ]
    },
    {
      "cell_type": "code",
      "metadata": {
        "id": "eCwyDp2weksJ"
      },
      "source": [
        "# importação do pandas\n",
        "\n",
        "import pandas as pd\n",
        "\n",
        "# opcional\n",
        "#from pandas import Series, DataFrame # caso não importe, use como pd.Series e pd.DataFrame"
      ],
      "execution_count": null,
      "outputs": []
    },
    {
      "cell_type": "markdown",
      "metadata": {
        "id": "NWiMe9JlgtoS"
      },
      "source": [
        "## Objetos Pandas"
      ]
    },
    {
      "cell_type": "markdown",
      "metadata": {
        "id": "C08zdWAXg0yo"
      },
      "source": [
        "* Series: dados em vetores 1D\n",
        "* DataFrames: dados tabulares"
      ]
    },
    {
      "cell_type": "markdown",
      "metadata": {
        "id": "89CJSi7n0dQK"
      },
      "source": [
        "### Series"
      ]
    },
    {
      "cell_type": "code",
      "metadata": {
        "id": "5Ds5c7gxg-59",
        "colab": {
          "base_uri": "https://localhost:8080/",
          "height": 102
        },
        "outputId": "7312ed95-444a-4083-a403-70f2b3bbba44"
      },
      "source": [
        "# criação de series\n",
        "\n",
        "lista = [4, 7, -5, 3]\n",
        "\n",
        "obj = pd.Series(lista)\n",
        "obj"
      ],
      "execution_count": null,
      "outputs": [
        {
          "output_type": "execute_result",
          "data": {
            "text/plain": [
              "0    4\n",
              "1    7\n",
              "2   -5\n",
              "3    3\n",
              "dtype: int64"
            ]
          },
          "metadata": {
            "tags": []
          },
          "execution_count": 46
        }
      ]
    },
    {
      "cell_type": "code",
      "metadata": {
        "id": "ocWI5p9Chm5E"
      },
      "source": [
        "# tipo e propriedades\n",
        "\n",
        "obj.values\n",
        "#obj.index"
      ],
      "execution_count": null,
      "outputs": []
    },
    {
      "cell_type": "code",
      "metadata": {
        "id": "bULULCsth78b"
      },
      "source": [
        "# criação de series com index diferente\n",
        "\n",
        "obj = pd.Series([4, 7, -5, 3, 0], index=['leonardo', 'rodolfo', 'leonichel', 'bento', 'milena'])\n",
        "obj"
      ],
      "execution_count": null,
      "outputs": []
    },
    {
      "cell_type": "code",
      "metadata": {
        "id": "kEto5bWgir_9"
      },
      "source": [
        "# indexação básica\n",
        "\n",
        "#obj['rodolfo']\n",
        "obj[['rodolfo', 'milena']]"
      ],
      "execution_count": null,
      "outputs": []
    },
    {
      "cell_type": "code",
      "metadata": {
        "id": "zCMAw4ImjIKp",
        "colab": {
          "base_uri": "https://localhost:8080/",
          "height": 34
        },
        "outputId": "8277b98b-aeda-41dc-a3cf-363658b7f0f1"
      },
      "source": [
        "# indexação booleana\n",
        "\n",
        "obj[obj > 2]\n",
        "#'leonichel' in obj"
      ],
      "execution_count": null,
      "outputs": [
        {
          "output_type": "execute_result",
          "data": {
            "text/plain": [
              "True"
            ]
          },
          "metadata": {
            "tags": []
          },
          "execution_count": 54
        }
      ]
    },
    {
      "cell_type": "code",
      "metadata": {
        "id": "oJOmVrx9qYlg"
      },
      "source": [
        "# entrada de dados\n",
        "'''\n",
        "dados = {'Maringá' : 423666, 'Londrina' : 485822, 'Paranavaí' : 105470, 'Marialva' : 35496}\n",
        "populacao = pd.Series(dados)'''\n",
        "\n",
        "''' Alternativa\n",
        "numeros = [423666, 485822, 105470, 35496]\n",
        "cidades = ['Maringá' , 'Londrina', 'Paranavaí', 'Marialva']\n",
        "populacao = pd.Series(numeros, index=cidades)'''\n",
        "\n",
        "populacao"
      ],
      "execution_count": null,
      "outputs": []
    },
    {
      "cell_type": "code",
      "metadata": {
        "id": "UQ972zSTtY2J"
      },
      "source": [
        "# integração com numpy\n",
        "\n",
        "import numpy as np\n",
        "\n",
        "np.log(populacao)"
      ],
      "execution_count": null,
      "outputs": []
    },
    {
      "cell_type": "code",
      "metadata": {
        "id": "-YkuQhJ1zfHO"
      },
      "source": [
        "# valores nulos (NaN)\n",
        "\n",
        "data = {'Maringá' : 423666, 'Londrina' : 485822, 'Paranavaí' : 105470, 'Marialva' : 35496}\n",
        "label = ['Maringá' , 'Londrina', 'Paranavaí', 'Marialva', 'Apucarana']\n",
        "populacao = pd.Series(data, index=label)\n",
        "populacao\n",
        "\n",
        "#pd.isnull(populacao) # pd.notnull"
      ],
      "execution_count": null,
      "outputs": []
    },
    {
      "cell_type": "markdown",
      "metadata": {
        "id": "fYUB20n50id5"
      },
      "source": [
        "### DataFrame"
      ]
    },
    {
      "cell_type": "code",
      "metadata": {
        "id": "RiTx1ofF0lOh"
      },
      "source": [
        "# criação de frames\n",
        "\n",
        "data = {'nomes' : ['Leonichel', 'Leonardo', 'Rodolfo', 'Bento'],\n",
        "        'idade' : [20, 15, 80, 35],\n",
        "        'altura' : [1.82, 1.85, 2., 1.79]}\n",
        "\n",
        "frame = pd.DataFrame(data)\n",
        "frame\n",
        "\n",
        "''' parâmetros index e columns\n",
        "frame = pd.DataFrame(data, columns=['NOMES','IDADES','altura', 'teste'], index=['one', 'two', 'three', 'four'])\n",
        "frame'''\n",
        "\n",
        "#frame.nomes"
      ],
      "execution_count": null,
      "outputs": []
    },
    {
      "cell_type": "code",
      "metadata": {
        "id": "J8O44haaEtyO"
      },
      "source": [
        "# editando valores\n",
        "\n",
        "data = {'nomes' : ['Leonichel', 'Leonardo', 'Rodolfo', 'Bento'],\n",
        "        'idade' : [20, 15, 80, 35],\n",
        "        'altura' : [1.82, 1.85, 2., 1.79]}\n",
        "\n",
        "frame = pd.DataFrame(data)\n",
        "\n",
        "frame['idade'] = 20\n",
        "frame\n",
        "\n",
        "values = pd.Series([20, 21, 21, 23], index=[0, 1, 2, 3])\n",
        "frame['idade'] = values\n",
        "frame\n"
      ],
      "execution_count": null,
      "outputs": []
    },
    {
      "cell_type": "markdown",
      "metadata": {
        "id": "rzJ0rs8cQhJB"
      },
      "source": [
        "## Leitura de arquivos"
      ]
    },
    {
      "cell_type": "code",
      "metadata": {
        "id": "YTOnY1XCQzuP"
      },
      "source": [
        "# arquivos .csv\n",
        "\n",
        "# leitura\n",
        "pd.read_csv('sample_data/california_housing_test.csv') # aceita o parâmetro encoding='ISO-8859-1'\n",
        "\n",
        "# escrita\n",
        "#pd.to_csv('nome_do_arquivo_para_salvar.csv')"
      ],
      "execution_count": null,
      "outputs": []
    },
    {
      "cell_type": "code",
      "metadata": {
        "id": "_Obgv_b0RJLT"
      },
      "source": [
        "# arquivos Excel\n",
        "\n",
        "frame = pd.ExcelFile('seu_arquivo_excel.xlsx')\n",
        "#frame = pd.read_excel(xlsx, 'Planilha 1')"
      ],
      "execution_count": null,
      "outputs": []
    },
    {
      "cell_type": "code",
      "metadata": {
        "id": "aIQoAXX1S5Ui",
        "colab": {
          "base_uri": "https://localhost:8080/",
          "height": 328
        },
        "outputId": "60efa1cf-8757-4ee3-e7b4-6eac4cbe6f32"
      },
      "source": [
        "# de uma URL\n",
        "\n",
        "frame = pd.read_csv('https://raw.githubusercontent.com/cs109/2014_data/master/countries.csv')\n",
        "\n",
        "# Web Scrapping através de html\n",
        "url = 'https://en.wikipedia.org/wiki/Pythonidae'\n",
        "frame2 = pd.read_html(url)[2]\n",
        "\n",
        "# se o site bloquear: use requests, com o seguinte header:\n",
        "'''\n",
        "header = {\n",
        "  \"User-Agent\": \"Mozilla/5.0 (X11; Linux x86_64) AppleWebKit/537.36 (KHTML, like Gecko) Chrome/50.0.2661.75 Safari/537.36\",\n",
        "  \"X-Requested-With\": \"XMLHttpRequest\"\n",
        "}\n",
        "'''\n",
        "\n",
        "frame2"
      ],
      "execution_count": null,
      "outputs": [
        {
          "output_type": "execute_result",
          "data": {
            "text/html": [
              "<div>\n",
              "<style scoped>\n",
              "    .dataframe tbody tr th:only-of-type {\n",
              "        vertical-align: middle;\n",
              "    }\n",
              "\n",
              "    .dataframe tbody tr th {\n",
              "        vertical-align: top;\n",
              "    }\n",
              "\n",
              "    .dataframe thead th {\n",
              "        text-align: right;\n",
              "    }\n",
              "</style>\n",
              "<table border=\"1\" class=\"dataframe\">\n",
              "  <thead>\n",
              "    <tr style=\"text-align: right;\">\n",
              "      <th></th>\n",
              "      <th>Genus[2]</th>\n",
              "      <th>Taxon author[2]</th>\n",
              "      <th>Species[2]</th>\n",
              "      <th>Subsp.[a][2]</th>\n",
              "      <th>Common name</th>\n",
              "      <th>Geographic range[1]</th>\n",
              "    </tr>\n",
              "  </thead>\n",
              "  <tbody>\n",
              "    <tr>\n",
              "      <th>0</th>\n",
              "      <td>Antaresia</td>\n",
              "      <td>Wells &amp; Wellington, 1984</td>\n",
              "      <td>4</td>\n",
              "      <td>2</td>\n",
              "      <td>Children's pythons</td>\n",
              "      <td>Australia in arid and tropical regions</td>\n",
              "    </tr>\n",
              "    <tr>\n",
              "      <th>1</th>\n",
              "      <td>Apodora[13]</td>\n",
              "      <td>Kluge, 1993</td>\n",
              "      <td>1</td>\n",
              "      <td>0</td>\n",
              "      <td>Papuan olive python</td>\n",
              "      <td>Papua New Guinea</td>\n",
              "    </tr>\n",
              "    <tr>\n",
              "      <th>2</th>\n",
              "      <td>Aspidites</td>\n",
              "      <td>Peters, 1877</td>\n",
              "      <td>2</td>\n",
              "      <td>0</td>\n",
              "      <td>Shield pythons</td>\n",
              "      <td>Australia except in the south of the country</td>\n",
              "    </tr>\n",
              "    <tr>\n",
              "      <th>3</th>\n",
              "      <td>Bothrochilus</td>\n",
              "      <td>Fitzinger, 1843</td>\n",
              "      <td>7</td>\n",
              "      <td>0</td>\n",
              "      <td>White-lipped pythons</td>\n",
              "      <td>Most of New Guinea (below 1,200 metres (3,900 ...</td>\n",
              "    </tr>\n",
              "    <tr>\n",
              "      <th>4</th>\n",
              "      <td>Liasis</td>\n",
              "      <td>Gray, 1842</td>\n",
              "      <td>3</td>\n",
              "      <td>5</td>\n",
              "      <td>Water pythons</td>\n",
              "      <td>Indonesia in the Lesser Sunda Islands, east th...</td>\n",
              "    </tr>\n",
              "    <tr>\n",
              "      <th>5</th>\n",
              "      <td>Malayopython</td>\n",
              "      <td>Reynolds, 2014</td>\n",
              "      <td>2</td>\n",
              "      <td>3</td>\n",
              "      <td>Reticulated and Timor pythons</td>\n",
              "      <td>From India to Timor</td>\n",
              "    </tr>\n",
              "    <tr>\n",
              "      <th>6</th>\n",
              "      <td>Morelia</td>\n",
              "      <td>Gray, 1842</td>\n",
              "      <td>8</td>\n",
              "      <td>6</td>\n",
              "      <td>Tree pythons</td>\n",
              "      <td>From Indonesia in the Maluku Islands, east thr...</td>\n",
              "    </tr>\n",
              "    <tr>\n",
              "      <th>7</th>\n",
              "      <td>Python[b]</td>\n",
              "      <td>Daudin, 1803</td>\n",
              "      <td>10</td>\n",
              "      <td>2</td>\n",
              "      <td>\"True\" pythons</td>\n",
              "      <td>Africa in the tropics south of the Sahara (not...</td>\n",
              "    </tr>\n",
              "    <tr>\n",
              "      <th>8</th>\n",
              "      <td>Simalia</td>\n",
              "      <td>Gray, 1849</td>\n",
              "      <td>7</td>\n",
              "      <td>0</td>\n",
              "      <td>Amethystine python species complex</td>\n",
              "      <td>Found in Indonesia (Including the islands of H...</td>\n",
              "    </tr>\n",
              "  </tbody>\n",
              "</table>\n",
              "</div>"
            ],
            "text/plain": [
              "       Genus[2]  ...                                Geographic range[1]\n",
              "0     Antaresia  ...             Australia in arid and tropical regions\n",
              "1   Apodora[13]  ...                                   Papua New Guinea\n",
              "2     Aspidites  ...       Australia except in the south of the country\n",
              "3  Bothrochilus  ...  Most of New Guinea (below 1,200 metres (3,900 ...\n",
              "4        Liasis  ...  Indonesia in the Lesser Sunda Islands, east th...\n",
              "5  Malayopython  ...                                From India to Timor\n",
              "6       Morelia  ...  From Indonesia in the Maluku Islands, east thr...\n",
              "7     Python[b]  ...  Africa in the tropics south of the Sahara (not...\n",
              "8       Simalia  ...  Found in Indonesia (Including the islands of H...\n",
              "\n",
              "[9 rows x 6 columns]"
            ]
          },
          "metadata": {
            "tags": []
          },
          "execution_count": 85
        }
      ]
    },
    {
      "cell_type": "code",
      "metadata": {
        "id": "nMkXSvo6Spou"
      },
      "source": [
        "# filtrando após a leitura\n",
        "\n",
        "frame2[['Common name']].values"
      ],
      "execution_count": null,
      "outputs": []
    },
    {
      "cell_type": "markdown",
      "metadata": {
        "id": "4cpuKtCCVzUI"
      },
      "source": [
        "Leitura complementar\n",
        "\n",
        "[28 comandos úteis](https://paulovasconcellos.com.br/28-comandos-%C3%BAteis-de-pandas-que-talvez-voc%C3%AA-n%C3%A3o-conhe%C3%A7a-6ab64beefa93)"
      ]
    },
    {
      "cell_type": "markdown",
      "metadata": {
        "id": "ZStcF-nqOp9D"
      },
      "source": [
        "## Próximos passos\n",
        "\n",
        "* Seleção loc e iloc\n",
        "* Índices inteiros\n",
        "* Aritmética e Alinhamento de dados\n",
        "* Métodos aritméticos com valores para preenchimento\n",
        "* Operações entre DataFrame e Series\n",
        "* Aplicação de funções e mapeamento\n",
        "* Ordenação e classificação\n",
        "* Rótulos duplicados\n",
        "* Calculando estatísticas descritivas\n",
        "* Correlação e covariância\n",
        "* Valores únicos, contadores de valores e pertinência\n",
        "\n"
      ]
    },
    {
      "cell_type": "markdown",
      "metadata": {
        "id": "waV0cxzYQeC5"
      },
      "source": [
        "## Desafio de Data Science\n",
        "\n",
        "* Extrair dados de um site\n",
        "* Processar os dados\n",
        "* Plotar um gráfico"
      ]
    },
    {
      "cell_type": "code",
      "metadata": {
        "id": "qAPXp9oTb4e2"
      },
      "source": [
        "import pandas as pd\n",
        "import requests\n",
        "import numpy as np\n",
        "import matplotlib.pyplot as plt\n",
        "\n",
        "url = 'https://brasil.io/dataset/covid19/caso/?search=Maring%C3%A1&state=PR&page=1'\n",
        "\n",
        "header = {\n",
        "  \"User-Agent\": \"Mozilla/5.0 (X11; Linux x86_64) AppleWebKit/537.36 (KHTML, like Gecko) Chrome/50.0.2661.75 Safari/537.36\",\n",
        "  \"X-Requested-With\": \"XMLHttpRequest\"\n",
        "}\n",
        "\n",
        "r = requests.get(url, header)\n",
        "\n",
        "date = pd.read_html(r.text)[0][['Data']]\n",
        "conf = pd.read_html(r.text)[0][['Confirmações']]\n",
        "\n",
        "date2 = date.values.flatten()[::-1]\n",
        "y = conf.values.flatten()[::-1]\n",
        "\n",
        "x = np.arange(len(date2))\n",
        "\n",
        "plt.style.use(\"ggplot\")\n",
        "\n",
        "plt.figure(figsize = (20,20))\n",
        "plt.plot(x, y)"
      ],
      "execution_count": null,
      "outputs": []
    },
    {
      "cell_type": "markdown",
      "metadata": {
        "id": "f3TjWypqbkF-"
      },
      "source": [
        "### Reposta"
      ]
    },
    {
      "cell_type": "code",
      "metadata": {
        "id": "R8IhgU02Vgvg"
      },
      "source": [
        "import pandas as pd\n",
        "import requests\n",
        "import numpy as np\n",
        "import matplotlib.pyplot as plt\n",
        "\n",
        "url = 'https://brasil.io/dataset/covid19/caso/?search=Maring%C3%A1&date=&state=PR&city=&place_type=&is_last=&city_ibge_code=&order_for_place='\n",
        "\n",
        "header = {\n",
        "  \"User-Agent\": \"Mozilla/5.0 (X11; Linux x86_64) AppleWebKit/537.36 (KHTML, like Gecko) Chrome/50.0.2661.75 Safari/537.36\",\n",
        "  \"X-Requested-With\": \"XMLHttpRequest\"\n",
        "}\n",
        "\n",
        "r = requests.get(url, headers=header)\n",
        "\n",
        "conf = pd.read_html(r.text)[0][['Confirmações']].values.flatten()[::-1]\n",
        "date = pd.read_html(r.text)[0][['Data']].values.flatten()[::-1]\n",
        "\n",
        "x = np.arange(len(date))\n",
        "\n",
        "plt.style.use(\"ggplot\")\n",
        "plt.figure(figsize = (15, 15))\n",
        "plt.xlabel('Dias')\n",
        "plt.ylabel('Casos confirmadas')\n",
        "plt.title('Expectativa para casos confirmados de COVID19 em Maringá')\n",
        "plt.plot(conf, label='conf')\n",
        "plt.plot(x, conf)"
      ],
      "execution_count": null,
      "outputs": []
    },
    {
      "cell_type": "markdown",
      "metadata": {
        "id": "SVq016FZbUMk"
      },
      "source": [
        "# MatPlotLib\n",
        "\n",
        "* Oferecimento: Ramo Estudantil [IEEE UEM](https://www.ieeeuem.com.br/)\n",
        "* Autores: Leonichel Guimarães (leonichelg@gmail.com) e Leonardo Armelin (leonardo99.armelin@gmail.com)\n",
        "* Referência: [documentação](https://matplotlib.org/3.1.1/api/)"
      ]
    },
    {
      "cell_type": "markdown",
      "metadata": {
        "id": "8vGFxrriGmz3"
      },
      "source": [
        "## Introdução"
      ]
    },
    {
      "cell_type": "markdown",
      "metadata": {
        "id": "EUiFX5giGmz4"
      },
      "source": [
        "\n",
        "* Usos: Visualização de dados.\n",
        "* Vantagens: inúmeras abordagens para leitura de dados; elevada gama de modelos gráficos.\n",
        "\n"
      ]
    },
    {
      "cell_type": "code",
      "metadata": {
        "id": "yCyUnCPgGmz6"
      },
      "source": [
        "# importação do matplotlib\n",
        "\n",
        "import matplotlib.pyplot as plt"
      ],
      "execution_count": null,
      "outputs": []
    },
    {
      "cell_type": "markdown",
      "metadata": {
        "id": "mE8cVwOhGm0C"
      },
      "source": [
        "## Do que é capaz?"
      ]
    },
    {
      "cell_type": "markdown",
      "metadata": {
        "id": "NEoFKUYUtXB8"
      },
      "source": [
        "https://matplotlib.org/3.2.2/thirdpartypackages/index.html#mapping-toolkits"
      ]
    },
    {
      "cell_type": "markdown",
      "metadata": {
        "id": "eZuibplINn4T"
      },
      "source": [
        "## Comandos"
      ]
    },
    {
      "cell_type": "code",
      "metadata": {
        "id": "WpasIpKFTjyG"
      },
      "source": [
        "# Parâmetros:\n",
        "# label: nome dado ao conjunto de dados que forma a curva.\n",
        "# linewidth: expessura da curva.\n",
        "# color: cor da curva.\n",
        "# marker: marcadores de pontos https://matplotlib.org/api/markers_api.html#module-matplotlib.markers\n",
        "# visible: a curva aparece ou não.\n",
        "# DOCUMENTAÇÃO: https://matplotlib.org/api/_as_gen/matplotlib.pyplot.plot.html\n",
        "plt.plot(x, y, label='linear')\n",
        "\n",
        "# Plota o gráfico\n",
        "plt.show()\n",
        "\n",
        "# Nomeia os eixos X e Y, respectivamente\n",
        "plt.xlabel('x label')\n",
        "plt.ylabel('y label')\n",
        "\n",
        "# Nomeia o gráfico\n",
        "plt.title(\"Simple Plot\")\n",
        "\n",
        "# Habilita legendas (labels)\n",
        "plt.legend()\n",
        "\n",
        "# Habilida linhas de referência\n",
        "plt.grid(True)\n",
        "\n",
        "# Define valores limite para os eixos X e Y, respectivamente\n",
        "plt.xlim(-2, 2)\n",
        "plt.ylim(-2, 2)\n",
        "plt.axis([xmin, xmax, ymin, ymax])\n",
        "\n",
        "# Insere textos dentro do gráfico\n",
        "# Parâmetros\n",
        "# x: posição do texto em X (segue a escala dos dados)\n",
        "# y: posição do texto em Y (segue a escala dos dados)\n",
        "# texto: texto a ser inserido\n",
        "# size: tamanho do texto\n",
        "# rotation: angulatura do texto\n",
        "# EXEMPLO: https://matplotlib.org/3.1.1/gallery/text_labels_and_annotations/fancytextbox_demo.html#sphx-glr-gallery-text-labels-and-annotations-fancytextbox-demo-py\n",
        "plt.text(2, 5, 'aooba')\n",
        "\n",
        "# Permite a apresentação de um ou mais gráficos simultâneamente (LINHA COLUNA GRÁFICO)\n",
        "plt.subplot(131)\n",
        "\n",
        "# Comandos para criar gráfico de barras (vertical ou horizontal)\n",
        "# Ao invés de chamar o eixo vertical de Y, chamamos de HEIGHT (altura)\n",
        "# Parâmetros\n",
        "# width: espessura das barras (default: 0.8)\n",
        "# bottom: valor inicial das bases das barras (default: 0)\n",
        "# align: alinhamento das barras em relação ao valor X. Há o 'center' e 'edge'. Para alinhar à direita, passe um valor negativo de width.\n",
        "# DOCUMENTAÇÃO: https://matplotlib.org/3.1.1/api/_as_gen/matplotlib.pyplot.bar.html\n",
        "plt.bar(names, values, width)\n",
        "plt.barh(names, values, height)\n",
        "\n",
        "# Comando para criar gráfico de histograma\n",
        "# Primeiro parâmetro é o valor dos elementos, segundo parâmetro é o número de divisões do histograma\n",
        "# EXEMPLO: https://pythonspot.com/matplotlib-histogram/\n",
        "plt.hist()\n",
        "\n",
        "# Comando para criar gráfico de setores (ou de pizza)\n",
        "# Parâmetros\n",
        "# x: porcentagem de cada setor\n",
        "# explode: parte a ser afastada do gráfico (necessita ser uma tupla)\n",
        "# labels: nome de cada setor\n",
        "# shadow: sombra bonita no gráfico (True ou False)\n",
        "# colors: lista de cores do gráfico\n",
        "# EXEMPLO: https://matplotlib.org/3.1.1/gallery/pie_and_polar_charts/pie_features.html#sphx-glr-gallery-pie-and-polar-charts-pie-features-py\n",
        "# DOCUMENTAÇÃO: https://matplotlib.org/3.1.1/api/_as_gen/matplotlib.pyplot.pie.html#matplotlib.pyplot.pie\n",
        "plt.pie()"
      ],
      "execution_count": null,
      "outputs": []
    },
    {
      "cell_type": "code",
      "metadata": {
        "id": "atJuZDQ2Zq47",
        "colab": {
          "base_uri": "https://localhost:8080/",
          "height": 248
        },
        "outputId": "c70212c6-efd6-4da6-c607-29a0a15752a3"
      },
      "source": [
        "linguagens = ['Python', 'Javascript', 'Ruby'] #qual você programa?\n",
        "x = [20, 50, 30]\n",
        "explode = (0.1, 0, 0)\n",
        "\n",
        "plt.pie(x, labels=linguagens, textprops={'color': 'white', 'size':15}, explode=explode, shadow=True, startangle=150)\n",
        "\n",
        "plt.show()"
      ],
      "execution_count": null,
      "outputs": [
        {
          "output_type": "display_data",
          "data": {
            "image/png": "[encoded data removed]",
            "text/plain": [
              "<Figure size 432x288 with 1 Axes>"
            ]
          },
          "metadata": {
            "tags": []
          }
        }
      ]
    },
    {
      "cell_type": "markdown",
      "metadata": {
        "id": "C-mWf5n-iDaQ"
      },
      "source": [
        "# Outras bibliotecas importantes"
      ]
    },
    {
      "cell_type": "markdown",
      "metadata": {
        "id": "6gvcSvY7bmT1"
      },
      "source": [
        "## Scipy\n",
        "\n",
        "* Oferecimento: Ramo Estudantil [IEEE UEM](https://www.ieeeuem.com.br/)\n",
        "* Autores: Leonichel Guimarães (leonichelg@gmail.com) e Leonardo Armelin (leonardo99.armelin@gmail.com)\n",
        "* Onde estudar: [documentação](https://docs.scipy.org/doc/scipy/reference/)"
      ]
    },
    {
      "cell_type": "markdown",
      "metadata": {
        "id": "NnGKHwrbgIzm"
      },
      "source": [
        "## Sympy\n",
        "\n",
        "* Oferecimento: Ramo Estudantil [IEEE UEM](https://www.ieeeuem.com.br/)\n",
        "* Autores: Leonichel Guimarães (leonichelg@gmail.com) e Leonardo Armelin (leonardo99.armelin@gmail.com)\n",
        "* Onde estudar: [documentação](https://docs.sympy.org/latest/tutorial/intro.html)"
      ]
    },
    {
      "cell_type": "markdown",
      "metadata": {
        "id": "07Qrt1qLhGaw"
      },
      "source": [
        "## Sklearn\n",
        "\n",
        "* Oferecimento: Ramo Estudantil [IEEE UEM](https://www.ieeeuem.com.br/)\n",
        "* Autores: Leonichel Guimarães (leonichelg@gmail.com) e Leonardo Armelin (leonardo99.armelin@gmail.com)\n",
        "* Onde estudar: [documentação](https://scikit-learn.org/stable/)"
      ]
    }
  ]
}